{
 "cells": [
  {
   "cell_type": "code",
   "execution_count": 1,
   "metadata": {},
   "outputs": [],
   "source": [
    "import cv2 as cv\n",
    "import numpy as np\n",
    "#读取图片,读取的数据为numpy的多元数组\n",
    "src = cv.imread('F:/software/tensorflow-inception/pic_test/image_0067.jpg')\n",
    "#opencv命名\n",
    "cv.namedWindow(\"input image\",cv.WINDOW_AUTOSIZE)\n",
    "#显示图片\n",
    "cv.imshow(\"input image\",src)\n",
    "#等待用户响应\n",
    "cv.waitKey(0)\n",
    "#释放所有的类层\n",
    "cv.destroyAllWindows()"
   ]
  },
  {
   "cell_type": "code",
   "execution_count": 2,
   "metadata": {},
   "outputs": [],
   "source": [
    "#读取图片,读取的数据为numpy的多元数组\n",
    "src = cv.imread('F:/software/tensorflow-inception/pic_test/image_0067.jpg')\n",
    "#opencv命名\n",
    "cv.namedWindow(\"input image\",cv.WINDOW_AUTOSIZE)\n",
    "#显示图片\n",
    "cv.imshow(\"input image\",src)\n",
    "#等待用户响应\n",
    "cv.waitKey(0)\n",
    "#释放所有的类层\n",
    "cv.destroyAllWindows()"
   ]
  },
  {
   "cell_type": "code",
   "execution_count": null,
   "metadata": {},
   "outputs": [],
   "source": []
  }
 ],
 "metadata": {
  "kernelspec": {
   "display_name": "Python 3",
   "language": "python",
   "name": "python3"
  },
  "language_info": {
   "codemirror_mode": {
    "name": "ipython",
    "version": 3
   },
   "file_extension": ".py",
   "mimetype": "text/x-python",
   "name": "python",
   "nbconvert_exporter": "python",
   "pygments_lexer": "ipython3",
   "version": "3.6.8"
  }
 },
 "nbformat": 4,
 "nbformat_minor": 2
}
