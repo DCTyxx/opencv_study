{
 "cells": [
  {
   "cell_type": "code",
   "execution_count": 4,
   "metadata": {},
   "outputs": [],
   "source": [
    "import cv2 as cv\n",
    "import numpy as np\n",
    "\n",
    "#读取视屏\n",
    "def video_demo():\n",
    "    capture = cv.VideoCapture(0)#打开电脑端的摄像头\n",
    "    while(True):\n",
    "        ret,frame=capture.read()#返回值ret,视屏的每一帧frame\n",
    "        frame = cv.flip(frame,1)#镜像反转\n",
    "        cv.imshow(\"video\",frame)\n",
    "        c = cv.waitKey(50)\n",
    "        if c == 27:\n",
    "            break\n",
    "\n",
    "def get_image_info(image):\n",
    "    print(type(image))#答应image的类别\n",
    "    print(image.shape)#打印图片的长宽高,通道数目\n",
    "    print(image.size)#打印图片的大小\n",
    "    print(image.dtype)#打印位数\n",
    "    plex_data = np.array(image)\n",
    "    print(plex_data)\n",
    "    \n",
    "    "
   ]
  },
  {
   "cell_type": "code",
   "execution_count": null,
   "metadata": {},
   "outputs": [
    {
     "name": "stdout",
     "output_type": "stream",
     "text": [
      "<class 'numpy.ndarray'>\n",
      "(515, 500, 3)\n",
      "772500\n",
      "uint8\n"
     ]
    }
   ],
   "source": [
    "#读取图片,读取的数据为numpy的多元数组\n",
    "src = cv.imread('F:/software/tensorflow-inception/pic_test/image_0067.jpg')\n",
    "#opencv命名\n",
    "cv.namedWindow(\"input image\",cv.WINDOW_AUTOSIZE)\n",
    "#显示图片\n",
    "cv.imshow(\"input image\",src)\n",
    "\n",
    "get_image_info(src)\n",
    "video_demo()\n",
    "#等待用户响应\n",
    "cv.waitKey(0)\n",
    "\n",
    "\n",
    "#释放所有的类层\n",
    "cv.destroyAllWindows()"
   ]
  },
  {
   "cell_type": "code",
   "execution_count": null,
   "metadata": {},
   "outputs": [],
   "source": []
  }
 ],
 "metadata": {
  "kernelspec": {
   "display_name": "Python 3",
   "language": "python",
   "name": "python3"
  },
  "language_info": {
   "codemirror_mode": {
    "name": "ipython",
    "version": 3
   },
   "file_extension": ".py",
   "mimetype": "text/x-python",
   "name": "python",
   "nbconvert_exporter": "python",
   "pygments_lexer": "ipython3",
   "version": "3.6.8"
  }
 },
 "nbformat": 4,
 "nbformat_minor": 2
}
